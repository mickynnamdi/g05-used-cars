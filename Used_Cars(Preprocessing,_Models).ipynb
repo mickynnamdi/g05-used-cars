{
  "nbformat": 4,
  "nbformat_minor": 0,
  "metadata": {
    "colab": {
      "name": "Used_Cars(Preprocessing, Models).ipynb",
      "provenance": [],
      "collapsed_sections": [],
      "authorship_tag": "ABX9TyM9rMBf7xCbSX4vZ9Npf2Em"
    },
    "kernelspec": {
      "display_name": "Python 3",
      "name": "python3"
    }
  },
  "cells": [
    {
      "cell_type": "code",
      "metadata": {
        "colab": {
          "base_uri": "https://localhost:8080/"
        },
        "id": "Lf8mbayf3D9E",
        "outputId": "719af554-59de-4318-c55d-fcf1da9341b5"
      },
      "source": [
        "from google.colab import drive\n",
        "drive.mount('/content/gdrive')"
      ],
      "execution_count": null,
      "outputs": [
        {
          "output_type": "stream",
          "text": [
            "Mounted at /content/gdrive\n"
          ],
          "name": "stdout"
        }
      ]
    },
    {
      "cell_type": "code",
      "metadata": {
        "id": "XYWDPnzl5eJ6"
      },
      "source": [
        "import os\n",
        "os.environ['KAGGLE_CONFIG_DIR'] = \"/content/gdrive/My Drive/Kaggle\"\n",
        "# /content/gdrive/My Drive/Kaggle is the path where kaggle.json is present in the Google Drive"
      ],
      "execution_count": null,
      "outputs": []
    },
    {
      "cell_type": "code",
      "metadata": {
        "colab": {
          "base_uri": "https://localhost:8080/"
        },
        "id": "u_H8x_cJ5_Lm",
        "outputId": "735a3357-2a21-4f0d-f53e-3cee7d377d6f"
      },
      "source": [
        "#changing the working directory\n",
        "%cd /content/gdrive/My Drive/Kaggle"
      ],
      "execution_count": null,
      "outputs": [
        {
          "output_type": "stream",
          "text": [
            "/content/gdrive/My Drive/Kaggle\n"
          ],
          "name": "stdout"
        }
      ]
    },
    {
      "cell_type": "code",
      "metadata": {
        "colab": {
          "base_uri": "https://localhost:8080/"
        },
        "id": "TDwjysAU6okd",
        "outputId": "59ae2ba2-16c9-4529-ea35-485e6d77cf8d"
      },
      "source": [
        "!kaggle datasets download -d austinreese/craigslist-carstrucks-data"
      ],
      "execution_count": null,
      "outputs": [
        {
          "output_type": "stream",
          "text": [
            "Downloading craigslist-carstrucks-data.zip to /content/gdrive/My Drive/Kaggle\n",
            " 98% 261M/267M [00:03<00:00, 60.1MB/s]\n",
            "100% 267M/267M [00:04<00:00, 69.4MB/s]\n"
          ],
          "name": "stdout"
        }
      ]
    },
    {
      "cell_type": "code",
      "metadata": {
        "colab": {
          "base_uri": "https://localhost:8080/"
        },
        "id": "vMs8pojG6yZr",
        "outputId": "bbaec389-a3c7-4bd8-97b3-65763a5fa1e1"
      },
      "source": [
        "#unzipping the zip files and deleting the zip files\n",
        "!unzip \\*.zip  && rm *.zip"
      ],
      "execution_count": null,
      "outputs": [
        {
          "output_type": "stream",
          "text": [
            "Archive:  craigslist-carstrucks-data.zip\n",
            "  inflating: vehicles.csv            \n"
          ],
          "name": "stdout"
        }
      ]
    },
    {
      "cell_type": "code",
      "metadata": {
        "id": "6LH2gnR466f8"
      },
      "source": [
        "import pandas as pd\n",
        "import numpy as np\n",
        "df = pd.read_csv('vehicles.csv')"
      ],
      "execution_count": null,
      "outputs": []
    },
    {
      "cell_type": "code",
      "metadata": {
        "colab": {
          "base_uri": "https://localhost:8080/",
          "height": 539
        },
        "id": "S988Q5yQ7FFt",
        "outputId": "d98fc49b-f7c2-41aa-ed08-09425287357a"
      },
      "source": [
        "df.head(5)"
      ],
      "execution_count": null,
      "outputs": [
        {
          "output_type": "execute_result",
          "data": {
            "text/html": [
              "<div>\n",
              "<style scoped>\n",
              "    .dataframe tbody tr th:only-of-type {\n",
              "        vertical-align: middle;\n",
              "    }\n",
              "\n",
              "    .dataframe tbody tr th {\n",
              "        vertical-align: top;\n",
              "    }\n",
              "\n",
              "    .dataframe thead th {\n",
              "        text-align: right;\n",
              "    }\n",
              "</style>\n",
              "<table border=\"1\" class=\"dataframe\">\n",
              "  <thead>\n",
              "    <tr style=\"text-align: right;\">\n",
              "      <th></th>\n",
              "      <th>Unnamed: 0</th>\n",
              "      <th>id</th>\n",
              "      <th>url</th>\n",
              "      <th>region</th>\n",
              "      <th>region_url</th>\n",
              "      <th>price</th>\n",
              "      <th>year</th>\n",
              "      <th>manufacturer</th>\n",
              "      <th>model</th>\n",
              "      <th>condition</th>\n",
              "      <th>cylinders</th>\n",
              "      <th>fuel</th>\n",
              "      <th>odometer</th>\n",
              "      <th>title_status</th>\n",
              "      <th>transmission</th>\n",
              "      <th>VIN</th>\n",
              "      <th>drive</th>\n",
              "      <th>size</th>\n",
              "      <th>type</th>\n",
              "      <th>paint_color</th>\n",
              "      <th>image_url</th>\n",
              "      <th>description</th>\n",
              "      <th>state</th>\n",
              "      <th>lat</th>\n",
              "      <th>long</th>\n",
              "      <th>posting_date</th>\n",
              "    </tr>\n",
              "  </thead>\n",
              "  <tbody>\n",
              "    <tr>\n",
              "      <th>0</th>\n",
              "      <td>0</td>\n",
              "      <td>7240372487</td>\n",
              "      <td>https://auburn.craigslist.org/ctd/d/auburn-uni...</td>\n",
              "      <td>auburn</td>\n",
              "      <td>https://auburn.craigslist.org</td>\n",
              "      <td>35990</td>\n",
              "      <td>2010.0</td>\n",
              "      <td>chevrolet</td>\n",
              "      <td>corvette grand sport</td>\n",
              "      <td>good</td>\n",
              "      <td>8 cylinders</td>\n",
              "      <td>gas</td>\n",
              "      <td>32742.0</td>\n",
              "      <td>clean</td>\n",
              "      <td>other</td>\n",
              "      <td>1G1YU3DW1A5106980</td>\n",
              "      <td>rwd</td>\n",
              "      <td>NaN</td>\n",
              "      <td>other</td>\n",
              "      <td>NaN</td>\n",
              "      <td>https://images.craigslist.org/00N0N_ipkbHVZYf4...</td>\n",
              "      <td>Carvana is the safer way to buy a car During t...</td>\n",
              "      <td>al</td>\n",
              "      <td>32.590000</td>\n",
              "      <td>-85.480000</td>\n",
              "      <td>2020-12-02T08:11:30-0600</td>\n",
              "    </tr>\n",
              "    <tr>\n",
              "      <th>1</th>\n",
              "      <td>1</td>\n",
              "      <td>7240309422</td>\n",
              "      <td>https://auburn.craigslist.org/cto/d/auburn-201...</td>\n",
              "      <td>auburn</td>\n",
              "      <td>https://auburn.craigslist.org</td>\n",
              "      <td>7500</td>\n",
              "      <td>2014.0</td>\n",
              "      <td>hyundai</td>\n",
              "      <td>sonata</td>\n",
              "      <td>excellent</td>\n",
              "      <td>4 cylinders</td>\n",
              "      <td>gas</td>\n",
              "      <td>93600.0</td>\n",
              "      <td>clean</td>\n",
              "      <td>automatic</td>\n",
              "      <td>5NPEC4AB0EH813529</td>\n",
              "      <td>fwd</td>\n",
              "      <td>NaN</td>\n",
              "      <td>sedan</td>\n",
              "      <td>NaN</td>\n",
              "      <td>https://images.craigslist.org/00s0s_gBHYmJ5o7y...</td>\n",
              "      <td>I'll move to another city and try to sell my c...</td>\n",
              "      <td>al</td>\n",
              "      <td>32.547500</td>\n",
              "      <td>-85.468200</td>\n",
              "      <td>2020-12-02T02:11:50-0600</td>\n",
              "    </tr>\n",
              "    <tr>\n",
              "      <th>2</th>\n",
              "      <td>2</td>\n",
              "      <td>7240224296</td>\n",
              "      <td>https://auburn.craigslist.org/cto/d/auburn-200...</td>\n",
              "      <td>auburn</td>\n",
              "      <td>https://auburn.craigslist.org</td>\n",
              "      <td>4900</td>\n",
              "      <td>2006.0</td>\n",
              "      <td>bmw</td>\n",
              "      <td>x3 3.0i</td>\n",
              "      <td>good</td>\n",
              "      <td>6 cylinders</td>\n",
              "      <td>gas</td>\n",
              "      <td>87046.0</td>\n",
              "      <td>clean</td>\n",
              "      <td>automatic</td>\n",
              "      <td>NaN</td>\n",
              "      <td>NaN</td>\n",
              "      <td>NaN</td>\n",
              "      <td>SUV</td>\n",
              "      <td>blue</td>\n",
              "      <td>https://images.craigslist.org/00B0B_5zgEGWPOrt...</td>\n",
              "      <td>Clean 2006 BMW X3 3.0I.  Beautiful and rare Bl...</td>\n",
              "      <td>al</td>\n",
              "      <td>32.616807</td>\n",
              "      <td>-85.464149</td>\n",
              "      <td>2020-12-01T19:50:41-0600</td>\n",
              "    </tr>\n",
              "    <tr>\n",
              "      <th>3</th>\n",
              "      <td>3</td>\n",
              "      <td>7240103965</td>\n",
              "      <td>https://auburn.craigslist.org/cto/d/lanett-tru...</td>\n",
              "      <td>auburn</td>\n",
              "      <td>https://auburn.craigslist.org</td>\n",
              "      <td>2000</td>\n",
              "      <td>1974.0</td>\n",
              "      <td>chevrolet</td>\n",
              "      <td>c-10</td>\n",
              "      <td>good</td>\n",
              "      <td>4 cylinders</td>\n",
              "      <td>gas</td>\n",
              "      <td>190000.0</td>\n",
              "      <td>clean</td>\n",
              "      <td>automatic</td>\n",
              "      <td>NaN</td>\n",
              "      <td>rwd</td>\n",
              "      <td>full-size</td>\n",
              "      <td>pickup</td>\n",
              "      <td>blue</td>\n",
              "      <td>https://images.craigslist.org/00M0M_6o7KcDpArw...</td>\n",
              "      <td>1974 chev. truck (LONG BED) NEW starter front ...</td>\n",
              "      <td>al</td>\n",
              "      <td>32.861600</td>\n",
              "      <td>-85.216100</td>\n",
              "      <td>2020-12-01T15:54:45-0600</td>\n",
              "    </tr>\n",
              "    <tr>\n",
              "      <th>4</th>\n",
              "      <td>4</td>\n",
              "      <td>7239983776</td>\n",
              "      <td>https://auburn.craigslist.org/cto/d/auburn-200...</td>\n",
              "      <td>auburn</td>\n",
              "      <td>https://auburn.craigslist.org</td>\n",
              "      <td>19500</td>\n",
              "      <td>2005.0</td>\n",
              "      <td>ford</td>\n",
              "      <td>f350 lariat</td>\n",
              "      <td>excellent</td>\n",
              "      <td>8 cylinders</td>\n",
              "      <td>diesel</td>\n",
              "      <td>116000.0</td>\n",
              "      <td>lien</td>\n",
              "      <td>automatic</td>\n",
              "      <td>NaN</td>\n",
              "      <td>4wd</td>\n",
              "      <td>full-size</td>\n",
              "      <td>pickup</td>\n",
              "      <td>blue</td>\n",
              "      <td>https://images.craigslist.org/00p0p_b95l1EgUfl...</td>\n",
              "      <td>2005 Ford F350 Lariat (Bullet Proofed). This t...</td>\n",
              "      <td>al</td>\n",
              "      <td>32.547500</td>\n",
              "      <td>-85.468200</td>\n",
              "      <td>2020-12-01T12:53:56-0600</td>\n",
              "    </tr>\n",
              "  </tbody>\n",
              "</table>\n",
              "</div>"
            ],
            "text/plain": [
              "   Unnamed: 0          id  ...       long              posting_date\n",
              "0           0  7240372487  ... -85.480000  2020-12-02T08:11:30-0600\n",
              "1           1  7240309422  ... -85.468200  2020-12-02T02:11:50-0600\n",
              "2           2  7240224296  ... -85.464149  2020-12-01T19:50:41-0600\n",
              "3           3  7240103965  ... -85.216100  2020-12-01T15:54:45-0600\n",
              "4           4  7239983776  ... -85.468200  2020-12-01T12:53:56-0600\n",
              "\n",
              "[5 rows x 26 columns]"
            ]
          },
          "metadata": {
            "tags": []
          },
          "execution_count": 13
        }
      ]
    },
    {
      "cell_type": "code",
      "metadata": {
        "colab": {
          "base_uri": "https://localhost:8080/"
        },
        "id": "GoWx9hS47lzo",
        "outputId": "0c584e67-2b8a-4ad8-954d-3cb3cfbea131"
      },
      "source": [
        "df.isnull().count()"
      ],
      "execution_count": null,
      "outputs": [
        {
          "output_type": "execute_result",
          "data": {
            "text/plain": [
              "Unnamed: 0      458213\n",
              "id              458213\n",
              "url             458213\n",
              "region          458213\n",
              "region_url      458213\n",
              "price           458213\n",
              "year            458213\n",
              "manufacturer    458213\n",
              "model           458213\n",
              "condition       458213\n",
              "cylinders       458213\n",
              "fuel            458213\n",
              "odometer        458213\n",
              "title_status    458213\n",
              "transmission    458213\n",
              "VIN             458213\n",
              "drive           458213\n",
              "size            458213\n",
              "type            458213\n",
              "paint_color     458213\n",
              "image_url       458213\n",
              "description     458213\n",
              "state           458213\n",
              "lat             458213\n",
              "long            458213\n",
              "posting_date    458213\n",
              "dtype: int64"
            ]
          },
          "metadata": {
            "tags": []
          },
          "execution_count": 14
        }
      ]
    },
    {
      "cell_type": "code",
      "metadata": {
        "colab": {
          "base_uri": "https://localhost:8080/"
        },
        "id": "TzAReKOt7pP1",
        "outputId": "2b22947e-943b-4c1f-e3be-d78367a72b3d"
      },
      "source": [
        "df.info()"
      ],
      "execution_count": null,
      "outputs": [
        {
          "output_type": "stream",
          "text": [
            "<class 'pandas.core.frame.DataFrame'>\n",
            "RangeIndex: 458213 entries, 0 to 458212\n",
            "Data columns (total 26 columns):\n",
            " #   Column        Non-Null Count   Dtype  \n",
            "---  ------        --------------   -----  \n",
            " 0   Unnamed: 0    458213 non-null  int64  \n",
            " 1   id            458213 non-null  int64  \n",
            " 2   url           458213 non-null  object \n",
            " 3   region        458213 non-null  object \n",
            " 4   region_url    458213 non-null  object \n",
            " 5   price         458213 non-null  int64  \n",
            " 6   year          457163 non-null  float64\n",
            " 7   manufacturer  439993 non-null  object \n",
            " 8   model         453367 non-null  object \n",
            " 9   condition     265273 non-null  object \n",
            " 10  cylinders     287073 non-null  object \n",
            " 11  fuel          454976 non-null  object \n",
            " 12  odometer      402910 non-null  float64\n",
            " 13  title_status  455636 non-null  object \n",
            " 14  transmission  455771 non-null  object \n",
            " 15  VIN           270664 non-null  object \n",
            " 16  drive         324025 non-null  object \n",
            " 17  size          136865 non-null  object \n",
            " 18  type          345475 non-null  object \n",
            " 19  paint_color   317370 non-null  object \n",
            " 20  image_url     458185 non-null  object \n",
            " 21  description   458143 non-null  object \n",
            " 22  state         458213 non-null  object \n",
            " 23  lat           450765 non-null  float64\n",
            " 24  long          450765 non-null  float64\n",
            " 25  posting_date  458185 non-null  object \n",
            "dtypes: float64(4), int64(3), object(19)\n",
            "memory usage: 90.9+ MB\n"
          ],
          "name": "stdout"
        }
      ]
    },
    {
      "cell_type": "code",
      "metadata": {
        "id": "kSsG4bEX7sZO"
      },
      "source": [
        "#Adding a new column - 'car_age'\n",
        "import datetime\n",
        "current_time = datetime.datetime.now()\n",
        "#current_time.year\n",
        "\n",
        "df['car_age'] = current_time.year - df['year']"
      ],
      "execution_count": null,
      "outputs": []
    },
    {
      "cell_type": "code",
      "metadata": {
        "id": "FBQuOvUb7wAJ"
      },
      "source": [
        "#making price the last column\n",
        "\n",
        "df= df.reindex(columns=['id', 'url', 'region', 'region_url', 'year','car_age', 'manufacturer',\n",
        "       'model', 'condition', 'cylinders', 'fuel', 'odometer', 'title_status',\n",
        "       'transmission', 'vin', 'drive', 'size', 'type', 'paint_color',\n",
        "       'image_url', 'description', 'county', 'state', 'lat', 'long','posting_date','price'])"
      ],
      "execution_count": null,
      "outputs": []
    },
    {
      "cell_type": "code",
      "metadata": {
        "colab": {
          "base_uri": "https://localhost:8080/",
          "height": 619
        },
        "id": "eHJYffcC7zQC",
        "outputId": "b2e71c4d-e2c4-449f-b809-bc2329fff850"
      },
      "source": [
        "#Dropping the irrelevant columns\n",
        "df.train=df.copy()#making a copy\n",
        "df.train=df.train.drop(columns=['url','region_url','vin','image_url','description','county','posting_date'])\n",
        "df.train"
      ],
      "execution_count": null,
      "outputs": [
        {
          "output_type": "stream",
          "text": [
            "/usr/local/lib/python3.6/dist-packages/ipykernel_launcher.py:1: UserWarning: Pandas doesn't allow columns to be created via a new attribute name - see https://pandas.pydata.org/pandas-docs/stable/indexing.html#attribute-access\n",
            "  \"\"\"Entry point for launching an IPython kernel.\n"
          ],
          "name": "stderr"
        },
        {
          "output_type": "execute_result",
          "data": {
            "text/html": [
              "<div>\n",
              "<style scoped>\n",
              "    .dataframe tbody tr th:only-of-type {\n",
              "        vertical-align: middle;\n",
              "    }\n",
              "\n",
              "    .dataframe tbody tr th {\n",
              "        vertical-align: top;\n",
              "    }\n",
              "\n",
              "    .dataframe thead th {\n",
              "        text-align: right;\n",
              "    }\n",
              "</style>\n",
              "<table border=\"1\" class=\"dataframe\">\n",
              "  <thead>\n",
              "    <tr style=\"text-align: right;\">\n",
              "      <th></th>\n",
              "      <th>id</th>\n",
              "      <th>region</th>\n",
              "      <th>year</th>\n",
              "      <th>car_age</th>\n",
              "      <th>manufacturer</th>\n",
              "      <th>model</th>\n",
              "      <th>condition</th>\n",
              "      <th>cylinders</th>\n",
              "      <th>fuel</th>\n",
              "      <th>odometer</th>\n",
              "      <th>title_status</th>\n",
              "      <th>transmission</th>\n",
              "      <th>drive</th>\n",
              "      <th>size</th>\n",
              "      <th>type</th>\n",
              "      <th>paint_color</th>\n",
              "      <th>state</th>\n",
              "      <th>lat</th>\n",
              "      <th>long</th>\n",
              "      <th>price</th>\n",
              "    </tr>\n",
              "  </thead>\n",
              "  <tbody>\n",
              "    <tr>\n",
              "      <th>0</th>\n",
              "      <td>7240372487</td>\n",
              "      <td>auburn</td>\n",
              "      <td>2010.0</td>\n",
              "      <td>10.0</td>\n",
              "      <td>chevrolet</td>\n",
              "      <td>corvette grand sport</td>\n",
              "      <td>good</td>\n",
              "      <td>8 cylinders</td>\n",
              "      <td>gas</td>\n",
              "      <td>32742.0</td>\n",
              "      <td>clean</td>\n",
              "      <td>other</td>\n",
              "      <td>rwd</td>\n",
              "      <td>NaN</td>\n",
              "      <td>other</td>\n",
              "      <td>NaN</td>\n",
              "      <td>al</td>\n",
              "      <td>32.590000</td>\n",
              "      <td>-85.480000</td>\n",
              "      <td>35990</td>\n",
              "    </tr>\n",
              "    <tr>\n",
              "      <th>1</th>\n",
              "      <td>7240309422</td>\n",
              "      <td>auburn</td>\n",
              "      <td>2014.0</td>\n",
              "      <td>6.0</td>\n",
              "      <td>hyundai</td>\n",
              "      <td>sonata</td>\n",
              "      <td>excellent</td>\n",
              "      <td>4 cylinders</td>\n",
              "      <td>gas</td>\n",
              "      <td>93600.0</td>\n",
              "      <td>clean</td>\n",
              "      <td>automatic</td>\n",
              "      <td>fwd</td>\n",
              "      <td>NaN</td>\n",
              "      <td>sedan</td>\n",
              "      <td>NaN</td>\n",
              "      <td>al</td>\n",
              "      <td>32.547500</td>\n",
              "      <td>-85.468200</td>\n",
              "      <td>7500</td>\n",
              "    </tr>\n",
              "    <tr>\n",
              "      <th>2</th>\n",
              "      <td>7240224296</td>\n",
              "      <td>auburn</td>\n",
              "      <td>2006.0</td>\n",
              "      <td>14.0</td>\n",
              "      <td>bmw</td>\n",
              "      <td>x3 3.0i</td>\n",
              "      <td>good</td>\n",
              "      <td>6 cylinders</td>\n",
              "      <td>gas</td>\n",
              "      <td>87046.0</td>\n",
              "      <td>clean</td>\n",
              "      <td>automatic</td>\n",
              "      <td>NaN</td>\n",
              "      <td>NaN</td>\n",
              "      <td>SUV</td>\n",
              "      <td>blue</td>\n",
              "      <td>al</td>\n",
              "      <td>32.616807</td>\n",
              "      <td>-85.464149</td>\n",
              "      <td>4900</td>\n",
              "    </tr>\n",
              "    <tr>\n",
              "      <th>3</th>\n",
              "      <td>7240103965</td>\n",
              "      <td>auburn</td>\n",
              "      <td>1974.0</td>\n",
              "      <td>46.0</td>\n",
              "      <td>chevrolet</td>\n",
              "      <td>c-10</td>\n",
              "      <td>good</td>\n",
              "      <td>4 cylinders</td>\n",
              "      <td>gas</td>\n",
              "      <td>190000.0</td>\n",
              "      <td>clean</td>\n",
              "      <td>automatic</td>\n",
              "      <td>rwd</td>\n",
              "      <td>full-size</td>\n",
              "      <td>pickup</td>\n",
              "      <td>blue</td>\n",
              "      <td>al</td>\n",
              "      <td>32.861600</td>\n",
              "      <td>-85.216100</td>\n",
              "      <td>2000</td>\n",
              "    </tr>\n",
              "    <tr>\n",
              "      <th>4</th>\n",
              "      <td>7239983776</td>\n",
              "      <td>auburn</td>\n",
              "      <td>2005.0</td>\n",
              "      <td>15.0</td>\n",
              "      <td>ford</td>\n",
              "      <td>f350 lariat</td>\n",
              "      <td>excellent</td>\n",
              "      <td>8 cylinders</td>\n",
              "      <td>diesel</td>\n",
              "      <td>116000.0</td>\n",
              "      <td>lien</td>\n",
              "      <td>automatic</td>\n",
              "      <td>4wd</td>\n",
              "      <td>full-size</td>\n",
              "      <td>pickup</td>\n",
              "      <td>blue</td>\n",
              "      <td>al</td>\n",
              "      <td>32.547500</td>\n",
              "      <td>-85.468200</td>\n",
              "      <td>19500</td>\n",
              "    </tr>\n",
              "    <tr>\n",
              "      <th>...</th>\n",
              "      <td>...</td>\n",
              "      <td>...</td>\n",
              "      <td>...</td>\n",
              "      <td>...</td>\n",
              "      <td>...</td>\n",
              "      <td>...</td>\n",
              "      <td>...</td>\n",
              "      <td>...</td>\n",
              "      <td>...</td>\n",
              "      <td>...</td>\n",
              "      <td>...</td>\n",
              "      <td>...</td>\n",
              "      <td>...</td>\n",
              "      <td>...</td>\n",
              "      <td>...</td>\n",
              "      <td>...</td>\n",
              "      <td>...</td>\n",
              "      <td>...</td>\n",
              "      <td>...</td>\n",
              "      <td>...</td>\n",
              "    </tr>\n",
              "    <tr>\n",
              "      <th>458208</th>\n",
              "      <td>7240959076</td>\n",
              "      <td>wausau</td>\n",
              "      <td>2014.0</td>\n",
              "      <td>6.0</td>\n",
              "      <td>cadillac</td>\n",
              "      <td>srx</td>\n",
              "      <td>excellent</td>\n",
              "      <td>6 cylinders</td>\n",
              "      <td>gas</td>\n",
              "      <td>83790.0</td>\n",
              "      <td>clean</td>\n",
              "      <td>automatic</td>\n",
              "      <td>4wd</td>\n",
              "      <td>mid-size</td>\n",
              "      <td>SUV</td>\n",
              "      <td>silver</td>\n",
              "      <td>wi</td>\n",
              "      <td>44.408867</td>\n",
              "      <td>-89.881210</td>\n",
              "      <td>14995</td>\n",
              "    </tr>\n",
              "    <tr>\n",
              "      <th>458209</th>\n",
              "      <td>7240954682</td>\n",
              "      <td>wausau</td>\n",
              "      <td>2018.0</td>\n",
              "      <td>2.0</td>\n",
              "      <td>hyundai</td>\n",
              "      <td>tucson</td>\n",
              "      <td>excellent</td>\n",
              "      <td>4 cylinders</td>\n",
              "      <td>gas</td>\n",
              "      <td>31888.0</td>\n",
              "      <td>clean</td>\n",
              "      <td>automatic</td>\n",
              "      <td>4wd</td>\n",
              "      <td>mid-size</td>\n",
              "      <td>SUV</td>\n",
              "      <td>white</td>\n",
              "      <td>wi</td>\n",
              "      <td>44.408867</td>\n",
              "      <td>-89.882240</td>\n",
              "      <td>17895</td>\n",
              "    </tr>\n",
              "    <tr>\n",
              "      <th>458210</th>\n",
              "      <td>7240645700</td>\n",
              "      <td>wyoming</td>\n",
              "      <td>2014.0</td>\n",
              "      <td>6.0</td>\n",
              "      <td>cadillac</td>\n",
              "      <td>cts coupe awd</td>\n",
              "      <td>excellent</td>\n",
              "      <td>6 cylinders</td>\n",
              "      <td>gas</td>\n",
              "      <td>53000.0</td>\n",
              "      <td>clean</td>\n",
              "      <td>automatic</td>\n",
              "      <td>4wd</td>\n",
              "      <td>mid-size</td>\n",
              "      <td>coupe</td>\n",
              "      <td>black</td>\n",
              "      <td>wy</td>\n",
              "      <td>44.784900</td>\n",
              "      <td>-106.964800</td>\n",
              "      <td>17900</td>\n",
              "    </tr>\n",
              "    <tr>\n",
              "      <th>458211</th>\n",
              "      <td>7240600465</td>\n",
              "      <td>wyoming</td>\n",
              "      <td>2008.0</td>\n",
              "      <td>12.0</td>\n",
              "      <td>jeep</td>\n",
              "      <td>grand cherokee</td>\n",
              "      <td>good</td>\n",
              "      <td>8 cylinders</td>\n",
              "      <td>gas</td>\n",
              "      <td>164000.0</td>\n",
              "      <td>clean</td>\n",
              "      <td>automatic</td>\n",
              "      <td>4wd</td>\n",
              "      <td>mid-size</td>\n",
              "      <td>SUV</td>\n",
              "      <td>white</td>\n",
              "      <td>wy</td>\n",
              "      <td>44.773500</td>\n",
              "      <td>-106.939600</td>\n",
              "      <td>1300</td>\n",
              "    </tr>\n",
              "    <tr>\n",
              "      <th>458212</th>\n",
              "      <td>7240562359</td>\n",
              "      <td>wyoming</td>\n",
              "      <td>2008.0</td>\n",
              "      <td>12.0</td>\n",
              "      <td>NaN</td>\n",
              "      <td>International 4300</td>\n",
              "      <td>NaN</td>\n",
              "      <td>NaN</td>\n",
              "      <td>diesel</td>\n",
              "      <td>164000.0</td>\n",
              "      <td>clean</td>\n",
              "      <td>automatic</td>\n",
              "      <td>NaN</td>\n",
              "      <td>NaN</td>\n",
              "      <td>NaN</td>\n",
              "      <td>NaN</td>\n",
              "      <td>wy</td>\n",
              "      <td>42.117656</td>\n",
              "      <td>-88.436954</td>\n",
              "      <td>22900</td>\n",
              "    </tr>\n",
              "  </tbody>\n",
              "</table>\n",
              "<p>458213 rows × 20 columns</p>\n",
              "</div>"
            ],
            "text/plain": [
              "                id   region    year  ...        lat        long  price\n",
              "0       7240372487   auburn  2010.0  ...  32.590000  -85.480000  35990\n",
              "1       7240309422   auburn  2014.0  ...  32.547500  -85.468200   7500\n",
              "2       7240224296   auburn  2006.0  ...  32.616807  -85.464149   4900\n",
              "3       7240103965   auburn  1974.0  ...  32.861600  -85.216100   2000\n",
              "4       7239983776   auburn  2005.0  ...  32.547500  -85.468200  19500\n",
              "...            ...      ...     ...  ...        ...         ...    ...\n",
              "458208  7240959076   wausau  2014.0  ...  44.408867  -89.881210  14995\n",
              "458209  7240954682   wausau  2018.0  ...  44.408867  -89.882240  17895\n",
              "458210  7240645700  wyoming  2014.0  ...  44.784900 -106.964800  17900\n",
              "458211  7240600465  wyoming  2008.0  ...  44.773500 -106.939600   1300\n",
              "458212  7240562359  wyoming  2008.0  ...  42.117656  -88.436954  22900\n",
              "\n",
              "[458213 rows x 20 columns]"
            ]
          },
          "metadata": {
            "tags": []
          },
          "execution_count": 18
        }
      ]
    },
    {
      "cell_type": "code",
      "metadata": {
        "colab": {
          "base_uri": "https://localhost:8080/"
        },
        "id": "Lrbg4wCZ72Nx",
        "outputId": "62767492-8161-49fe-f47a-fa6e1f55d7e8"
      },
      "source": [
        "df.train.info()"
      ],
      "execution_count": null,
      "outputs": [
        {
          "output_type": "stream",
          "text": [
            "<class 'pandas.core.frame.DataFrame'>\n",
            "RangeIndex: 458213 entries, 0 to 458212\n",
            "Data columns (total 20 columns):\n",
            " #   Column        Non-Null Count   Dtype  \n",
            "---  ------        --------------   -----  \n",
            " 0   id            458213 non-null  int64  \n",
            " 1   region        458213 non-null  object \n",
            " 2   year          457163 non-null  float64\n",
            " 3   car_age       457163 non-null  float64\n",
            " 4   manufacturer  439993 non-null  object \n",
            " 5   model         453367 non-null  object \n",
            " 6   condition     265273 non-null  object \n",
            " 7   cylinders     287073 non-null  object \n",
            " 8   fuel          454976 non-null  object \n",
            " 9   odometer      402910 non-null  float64\n",
            " 10  title_status  455636 non-null  object \n",
            " 11  transmission  455771 non-null  object \n",
            " 12  drive         324025 non-null  object \n",
            " 13  size          136865 non-null  object \n",
            " 14  type          345475 non-null  object \n",
            " 15  paint_color   317370 non-null  object \n",
            " 16  state         458213 non-null  object \n",
            " 17  lat           450765 non-null  float64\n",
            " 18  long          450765 non-null  float64\n",
            " 19  price         458213 non-null  int64  \n",
            "dtypes: float64(5), int64(2), object(13)\n",
            "memory usage: 69.9+ MB\n"
          ],
          "name": "stdout"
        }
      ]
    },
    {
      "cell_type": "code",
      "metadata": {
        "id": "aQHW8kLt7513"
      },
      "source": [
        "#separating the numerical variable from categorical variable \n",
        "\n",
        "cat_cols=['region','manufacturer','model','condition','cylinders','fuel','title_status','transmission','drive','size','type','paint_color','state']\n",
        "\n",
        "num_col=['year','odometer','car_age','lat','long']"
      ],
      "execution_count": null,
      "outputs": []
    },
    {
      "cell_type": "code",
      "metadata": {
        "colab": {
          "base_uri": "https://localhost:8080/"
        },
        "id": "BX_R6odZ79I4",
        "outputId": "bd8d0ce1-ab0e-439f-fbc6-d409537c7b5e"
      },
      "source": [
        "import gc\n",
        "gc.collect()"
      ],
      "execution_count": null,
      "outputs": [
        {
          "output_type": "execute_result",
          "data": {
            "text/plain": [
              "137"
            ]
          },
          "metadata": {
            "tags": []
          },
          "execution_count": 21
        }
      ]
    },
    {
      "cell_type": "code",
      "metadata": {
        "id": "Cou3X1ZFNpDX"
      },
      "source": [
        "#Importing relevant libraries\n",
        "from tqdm import tqdm\n",
        "from sklearn.preprocessing import OrdinalEncoder\n",
        "from sklearn import preprocessing\n",
        "from sklearn.model_selection import cross_val_score\n",
        "from sklearn.impute import SimpleImputer\n",
        "from sklearn.pipeline import make_pipeline\n",
        "from sklearn.experimental import enable_iterative_imputer\n",
        "from sklearn.impute import IterativeImputer\n",
        "from sklearn.ensemble import ExtraTreesRegressor\n",
        "from sklearn.linear_model import BayesianRidge\n",
        "from sklearn.tree import DecisionTreeRegressor\n",
        "from sklearn.neighbors import KNeighborsRegressor\n",
        "import seaborn as sns\n",
        "from sklearn.model_selection import train_test_split, GridSearchCV\n",
        "import matplotlib.pyplot as plt\n",
        "from sklearn.ensemble import RandomForestRegressor\n",
        "from sklearn.ensemble import AdaBoostRegressor\n",
        "import xgboost as xgb\n",
        "from sklearn.preprocessing import StandardScaler\n",
        "from sklearn.preprocessing import MinMaxScaler\n",
        "from sklearn.metrics import mean_squared_log_error\n",
        "from sklearn.metrics import r2_score,mean_squared_error\n",
        "import warnings\n",
        "warnings.filterwarnings('ignore')"
      ],
      "execution_count": null,
      "outputs": []
    },
    {
      "cell_type": "code",
      "metadata": {
        "colab": {
          "base_uri": "https://localhost:8080/"
        },
        "id": "m4qckgJ07_MG",
        "outputId": "88edf44d-118a-4211-c711-a96b2dc33f0a"
      },
      "source": [
        "check_imputer=df.train.copy()#making a copy\n",
        "check_imputer=check_imputer.drop(columns=['id'])#droping the 'id' column\n",
        "\n",
        "#LabelEncoding\n",
        "encoder=preprocessing.LabelEncoder()\n",
        "\n",
        "#the function to label the categorical columns ignoring null values \n",
        "def encode(data):\n",
        "    #retains only non-null values\n",
        "    nonulls = np.array(data.dropna())\n",
        "    #reshapes the data for encoding\n",
        "    impute_reshape = nonulls.reshape(-1,1)\n",
        "    impute_ordinal = encoder.fit_transform(impute_reshape)#encode date\n",
        "    data.loc[data.notnull()] = np.squeeze(impute_ordinal)#Assigning back the encoded values to the non-null values\n",
        "    return data\n",
        "\n",
        "#loop to label each column or categorical values into numberic\n",
        "for i in tqdm(range(len(cat_cols))):\n",
        "    encode(check_imputer[cat_cols[i]])"
      ],
      "execution_count": null,
      "outputs": [
        {
          "output_type": "stream",
          "text": [
            "  0%|          | 0/13 [00:00<?, ?it/s]/usr/local/lib/python3.6/dist-packages/sklearn/preprocessing/_label.py:251: DataConversionWarning: A column-vector y was passed when a 1d array was expected. Please change the shape of y to (n_samples, ), for example using ravel().\n",
            "  y = column_or_1d(y, warn=True)\n",
            "/usr/local/lib/python3.6/dist-packages/pandas/core/indexing.py:670: SettingWithCopyWarning: \n",
            "A value is trying to be set on a copy of a slice from a DataFrame\n",
            "\n",
            "See the caveats in the documentation: https://pandas.pydata.org/pandas-docs/stable/user_guide/indexing.html#returning-a-view-versus-a-copy\n",
            "  iloc._setitem_with_indexer(indexer, value)\n",
            "100%|██████████| 13/13 [00:01<00:00,  7.24it/s]\n"
          ],
          "name": "stderr"
        }
      ]
    },
    {
      "cell_type": "code",
      "metadata": {
        "colab": {
          "base_uri": "https://localhost:8080/"
        },
        "id": "eBR0-ydS8B2p",
        "outputId": "3c20e5ac-2e6e-4b36-e17e-bd54987afe80"
      },
      "source": [
        "gc.collect()"
      ],
      "execution_count": null,
      "outputs": [
        {
          "output_type": "execute_result",
          "data": {
            "text/plain": [
              "0"
            ]
          },
          "metadata": {
            "tags": []
          },
          "execution_count": 23
        }
      ]
    },
    {
      "cell_type": "code",
      "metadata": {
        "colab": {
          "base_uri": "https://localhost:8080/"
        },
        "id": "KsXvPAmR8GjU",
        "outputId": "d7dda790-4504-43af-a0ad-8a98d8aa4ebc"
      },
      "source": [
        "check_imputer.info()"
      ],
      "execution_count": null,
      "outputs": [
        {
          "output_type": "stream",
          "text": [
            "<class 'pandas.core.frame.DataFrame'>\n",
            "RangeIndex: 458213 entries, 0 to 458212\n",
            "Data columns (total 19 columns):\n",
            " #   Column        Non-Null Count   Dtype  \n",
            "---  ------        --------------   -----  \n",
            " 0   region        458213 non-null  int64  \n",
            " 1   year          457163 non-null  float64\n",
            " 2   car_age       457163 non-null  float64\n",
            " 3   manufacturer  439993 non-null  object \n",
            " 4   model         453367 non-null  object \n",
            " 5   condition     265273 non-null  object \n",
            " 6   cylinders     287073 non-null  object \n",
            " 7   fuel          454976 non-null  object \n",
            " 8   odometer      402910 non-null  float64\n",
            " 9   title_status  455636 non-null  object \n",
            " 10  transmission  455771 non-null  object \n",
            " 11  drive         324025 non-null  object \n",
            " 12  size          136865 non-null  object \n",
            " 13  type          345475 non-null  object \n",
            " 14  paint_color   317370 non-null  object \n",
            " 15  state         458213 non-null  int64  \n",
            " 16  lat           450765 non-null  float64\n",
            " 17  long          450765 non-null  float64\n",
            " 18  price         458213 non-null  int64  \n",
            "dtypes: float64(5), int64(3), object(11)\n",
            "memory usage: 66.4+ MB\n"
          ],
          "name": "stdout"
        }
      ]
    },
    {
      "cell_type": "code",
      "metadata": {
        "colab": {
          "background_save": true
        },
        "id": "dh5vxYxR8MLM"
      },
      "source": [
        "br_estimator = ExtraTreesRegressor() #base estimator\n",
        "N_SPLITS = 6  #cross-validation splitting strategy\n",
        "\n",
        "score_simple_imputer = pd.DataFrame() #dataframe to store error of imputer\n",
        "#computing MSE for mean and median\n",
        "for strategy in ('mean', 'median'):\n",
        "    X=check_imputer.iloc[:,:-1]\n",
        "        #y=check_imputer.iloc[:,-1:].values.ravel()\n",
        "    y = np.ravel(check_imputer.iloc[:,-1:])\n",
        "    estimator = make_pipeline(\n",
        "        SimpleImputer(missing_values=np.nan, strategy=strategy),\n",
        "        br_estimator\n",
        "    )\n",
        "    score_simple_imputer[strategy] = cross_val_score(\n",
        "        estimator, X, y, scoring='neg_mean_squared_error',\n",
        "        cv=N_SPLITS\n",
        "    )"
      ],
      "execution_count": null,
      "outputs": []
    },
    {
      "cell_type": "code",
      "metadata": {
        "id": "nYswGb1b8O1I",
        "colab": {
          "base_uri": "https://localhost:8080/"
        },
        "outputId": "f81c0fdc-f603-444d-f3dd-286e5d57ac99"
      },
      "source": [
        "# Estimate the score on the entire dataset by filling missing values by 4 different iterative imputer\n",
        "\n",
        "#estimators for IterativeImputer\n",
        "estimators = [\n",
        "    ExtraTreesRegressor(n_estimators=10, random_state=0),\n",
        "    DecisionTreeRegressor(max_features='sqrt', random_state=0),\n",
        "    BayesianRidge(),\n",
        "    KNeighborsRegressor(n_neighbors=15)\n",
        "]\n",
        "score_iterative_imputer = pd.DataFrame()\n",
        "for esti in estimators:\n",
        "        print(\"Estimating\",esti.__class__.__name__)\n",
        "        imputer = IterativeImputer(esti)\n",
        "        df_new=check_imputer.copy()\n",
        "        for col in check_imputer.columns:\n",
        "            #col=check_imputer.columns[i]\n",
        "            impute_data=imputer.fit_transform(df_new[col].values.reshape(-1,1))\n",
        "            impute_data=impute_data.astype('int64')\n",
        "            impute_data = pd.DataFrame(np.ravel(impute_data))\n",
        "            df_new[col]=impute_data\n",
        "        X=df_new.iloc[:,:-1]\n",
        "        #y=check_imputer.iloc[:,-1:].values.ravel()\n",
        "        y = np.ravel(df_new.iloc[:,-1:])\n",
        "        score_iterative_imputer[esti.__class__.__name__] = cross_val_score(esti,X,y,scoring='neg_mean_squared_error',cv=6)"
      ],
      "execution_count": null,
      "outputs": [
        {
          "output_type": "stream",
          "text": [
            "Estimating ExtraTreesRegressor\n",
            "Estimating DecisionTreeRegressor\n",
            "Estimating BayesianRidge\n",
            "Estimating KNeighborsRegressor\n"
          ],
          "name": "stdout"
        }
      ]
    },
    {
      "cell_type": "code",
      "metadata": {
        "colab": {
          "base_uri": "https://localhost:8080/",
          "height": 443
        },
        "id": "3rcrKq1EG3PG",
        "outputId": "618e5c1c-0be5-4b44-951d-1d34a8cbc1ef"
      },
      "source": [
        "\n",
        "#ploting the graphs of scores each method\n",
        "scores = pd.concat(\n",
        "    [score_simple_imputer, score_iterative_imputer],\n",
        "    keys=['SimpleImputer', 'IterativeImputer'], axis=1\n",
        ")\n",
        "fig, ax = plt.subplots(figsize=(12, 6))\n",
        "means = -scores.mean()\n",
        "errors = scores.std()\n",
        "means.plot.barh(xerr=errors, ax=ax)\n",
        "ax.set_title('MSE with Different Imputation Methods')\n",
        "ax.set_xlabel('MSE (smaller value is better)')\n",
        "ax.set_yticks(np.arange(means.shape[0]))\n",
        "ax.set_yticklabels(means.index.tolist())\n",
        "plt.tight_layout(pad=1)\n",
        "plt.savefig('different-imputations-method',dpi=None)\n",
        "plt.show()"
      ],
      "execution_count": null,
      "outputs": [
        {
          "output_type": "display_data",
          "data": {
            "image/png": "[encoded data removed]",
            "text/plain": [
              "<Figure size 864x432 with 1 Axes>"
            ]
          },
          "metadata": {
            "tags": [],
            "needs_background": "light"
          }
        }
      ]
    },
    {
      "cell_type": "code",
      "metadata": {
        "colab": {
          "base_uri": "https://localhost:8080/"
        },
        "id": "BhB-5GKTHEno",
        "outputId": "a9590af0-6f34-4fff-bb4d-65d188addd70"
      },
      "source": [
        "df.train.isnull().sum()[num_col]"
      ],
      "execution_count": null,
      "outputs": [
        {
          "output_type": "execute_result",
          "data": {
            "text/plain": [
              "year         1050\n",
              "odometer    55303\n",
              "car_age      1050\n",
              "lat          7448\n",
              "long         7448\n",
              "dtype: int64"
            ]
          },
          "metadata": {
            "tags": []
          },
          "execution_count": 30
        }
      ]
    },
    {
      "cell_type": "code",
      "metadata": {
        "id": "lMAksljGHIJn"
      },
      "source": [
        "data_num=df.train[num_col]\n",
        "imputer_num=IterativeImputer(estimators[2]) #estimators[2] = BayesianRidge\n",
        "impute_data=imputer_num.fit_transform(data_num)\n",
        "df.train[num_col]=impute_data"
      ],
      "execution_count": null,
      "outputs": []
    },
    {
      "cell_type": "code",
      "metadata": {
        "colab": {
          "base_uri": "https://localhost:8080/"
        },
        "id": "6PSvjF-iHPLO",
        "outputId": "23cdbea1-29c6-463a-ad68-87bb1e85cd92"
      },
      "source": [
        "#Missing values of the num_col after filling\n",
        "df.train.isnull().sum()[num_col]"
      ],
      "execution_count": null,
      "outputs": [
        {
          "output_type": "execute_result",
          "data": {
            "text/plain": [
              "year        0\n",
              "odometer    0\n",
              "car_age     0\n",
              "lat         0\n",
              "long        0\n",
              "dtype: int64"
            ]
          },
          "metadata": {
            "tags": []
          },
          "execution_count": 33
        }
      ]
    },
    {
      "cell_type": "code",
      "metadata": {
        "colab": {
          "base_uri": "https://localhost:8080/"
        },
        "id": "hBaKCwxXHS9s",
        "outputId": "19f96779-c781-483b-c1d2-c55a013d3b31"
      },
      "source": [
        "#Missing values of the cat_cols before filling\n",
        "df.train.isnull().sum()[cat_cols]"
      ],
      "execution_count": null,
      "outputs": [
        {
          "output_type": "execute_result",
          "data": {
            "text/plain": [
              "region               0\n",
              "manufacturer     18220\n",
              "model             4846\n",
              "condition       192940\n",
              "cylinders       171140\n",
              "fuel              3237\n",
              "title_status      2577\n",
              "transmission      2442\n",
              "drive           134188\n",
              "size            321348\n",
              "type            112738\n",
              "paint_color     140843\n",
              "state                0\n",
              "dtype: int64"
            ]
          },
          "metadata": {
            "tags": []
          },
          "execution_count": 34
        }
      ]
    },
    {
      "cell_type": "code",
      "metadata": {
        "id": "3iXTEOxMHV-b"
      },
      "source": [
        "data_cat=df.train[cat_cols]\n",
        "encoder=preprocessing.LabelEncoder()\n",
        "\n",
        "#create a for loop to iterate through each column in the data\n",
        "for columns in cat_cols:\n",
        "    encode(data_cat[columns])\n",
        "    imputer = IterativeImputer(BayesianRidge())\n",
        "    impute_data=imputer.fit_transform(data_cat[columns].values.reshape(-1, 1))\n",
        "    impute_data=impute_data.astype('int64')\n",
        "    impute_data = pd.DataFrame(impute_data)\n",
        "    impute_data =encoder.inverse_transform(impute_data.values.reshape(-1, 1))\n",
        "    data_cat[columns]=impute_data\n",
        "df.train[cat_cols]=data_cat"
      ],
      "execution_count": null,
      "outputs": []
    },
    {
      "cell_type": "code",
      "metadata": {
        "colab": {
          "base_uri": "https://localhost:8080/"
        },
        "id": "LYRmz69eIiNT",
        "outputId": "b5c09068-8289-4174-ff1f-04746d65c569"
      },
      "source": [
        "df.train.isnull().sum()[cat_cols]"
      ],
      "execution_count": null,
      "outputs": [
        {
          "output_type": "execute_result",
          "data": {
            "text/plain": [
              "region          0\n",
              "manufacturer    0\n",
              "model           0\n",
              "condition       0\n",
              "cylinders       0\n",
              "fuel            0\n",
              "title_status    0\n",
              "transmission    0\n",
              "drive           0\n",
              "size            0\n",
              "type            0\n",
              "paint_color     0\n",
              "state           0\n",
              "dtype: int64"
            ]
          },
          "metadata": {
            "tags": []
          },
          "execution_count": 37
        }
      ]
    },
    {
      "cell_type": "code",
      "metadata": {
        "colab": {
          "base_uri": "https://localhost:8080/"
        },
        "id": "Iv7Mi6MPI2Dy",
        "outputId": "6e4394bf-1ddd-4221-d818-c1ddbc0fdd39"
      },
      "source": [
        "df.train.info()"
      ],
      "execution_count": null,
      "outputs": [
        {
          "output_type": "stream",
          "text": [
            "<class 'pandas.core.frame.DataFrame'>\n",
            "RangeIndex: 458213 entries, 0 to 458212\n",
            "Data columns (total 20 columns):\n",
            " #   Column        Non-Null Count   Dtype  \n",
            "---  ------        --------------   -----  \n",
            " 0   id            458213 non-null  int64  \n",
            " 1   region        458213 non-null  object \n",
            " 2   year          458213 non-null  float64\n",
            " 3   car_age       458213 non-null  float64\n",
            " 4   manufacturer  458213 non-null  object \n",
            " 5   model         458213 non-null  object \n",
            " 6   condition     458213 non-null  object \n",
            " 7   cylinders     458213 non-null  object \n",
            " 8   fuel          458213 non-null  object \n",
            " 9   odometer      458213 non-null  float64\n",
            " 10  title_status  458213 non-null  object \n",
            " 11  transmission  458213 non-null  object \n",
            " 12  drive         458213 non-null  object \n",
            " 13  size          458213 non-null  object \n",
            " 14  type          458213 non-null  object \n",
            " 15  paint_color   458213 non-null  object \n",
            " 16  state         458213 non-null  object \n",
            " 17  lat           458213 non-null  float64\n",
            " 18  long          458213 non-null  float64\n",
            " 19  price         458213 non-null  int64  \n",
            "dtypes: float64(5), int64(2), object(13)\n",
            "memory usage: 69.9+ MB\n"
          ],
          "name": "stdout"
        }
      ]
    },
    {
      "cell_type": "code",
      "metadata": {
        "id": "sUEMq9gwI8BH"
      },
      "source": [
        "df.train.to_csv('improved-vehiclesData.csv',index=False)"
      ],
      "execution_count": null,
      "outputs": []
    },
    {
      "cell_type": "code",
      "metadata": {
        "id": "hrYd93v2JaON"
      },
      "source": [
        "df=pd.read_csv('improved-vehiclesData.csv')"
      ],
      "execution_count": null,
      "outputs": []
    },
    {
      "cell_type": "code",
      "metadata": {
        "colab": {
          "base_uri": "https://localhost:8080/",
          "height": 617
        },
        "id": "VXE7zHogJnMh",
        "outputId": "7185e2ca-4d8c-4185-95e1-dbd991aca8f5"
      },
      "source": [
        "df"
      ],
      "execution_count": null,
      "outputs": [
        {
          "output_type": "execute_result",
          "data": {
            "text/html": [
              "<div>\n",
              "<style scoped>\n",
              "    .dataframe tbody tr th:only-of-type {\n",
              "        vertical-align: middle;\n",
              "    }\n",
              "\n",
              "    .dataframe tbody tr th {\n",
              "        vertical-align: top;\n",
              "    }\n",
              "\n",
              "    .dataframe thead th {\n",
              "        text-align: right;\n",
              "    }\n",
              "</style>\n",
              "<table border=\"1\" class=\"dataframe\">\n",
              "  <thead>\n",
              "    <tr style=\"text-align: right;\">\n",
              "      <th></th>\n",
              "      <th>id</th>\n",
              "      <th>region</th>\n",
              "      <th>year</th>\n",
              "      <th>car_age</th>\n",
              "      <th>manufacturer</th>\n",
              "      <th>model</th>\n",
              "      <th>condition</th>\n",
              "      <th>cylinders</th>\n",
              "      <th>fuel</th>\n",
              "      <th>odometer</th>\n",
              "      <th>title_status</th>\n",
              "      <th>transmission</th>\n",
              "      <th>drive</th>\n",
              "      <th>size</th>\n",
              "      <th>type</th>\n",
              "      <th>paint_color</th>\n",
              "      <th>state</th>\n",
              "      <th>lat</th>\n",
              "      <th>long</th>\n",
              "      <th>price</th>\n",
              "    </tr>\n",
              "  </thead>\n",
              "  <tbody>\n",
              "    <tr>\n",
              "      <th>0</th>\n",
              "      <td>7240372487</td>\n",
              "      <td>auburn</td>\n",
              "      <td>2010.0</td>\n",
              "      <td>10.0</td>\n",
              "      <td>chevrolet</td>\n",
              "      <td>corvette grand sport</td>\n",
              "      <td>good</td>\n",
              "      <td>8 cylinders</td>\n",
              "      <td>gas</td>\n",
              "      <td>32742.0</td>\n",
              "      <td>clean</td>\n",
              "      <td>other</td>\n",
              "      <td>rwd</td>\n",
              "      <td>full-size</td>\n",
              "      <td>other</td>\n",
              "      <td>grey</td>\n",
              "      <td>al</td>\n",
              "      <td>32.590000</td>\n",
              "      <td>-85.480000</td>\n",
              "      <td>35990</td>\n",
              "    </tr>\n",
              "    <tr>\n",
              "      <th>1</th>\n",
              "      <td>7240309422</td>\n",
              "      <td>auburn</td>\n",
              "      <td>2014.0</td>\n",
              "      <td>6.0</td>\n",
              "      <td>hyundai</td>\n",
              "      <td>sonata</td>\n",
              "      <td>excellent</td>\n",
              "      <td>4 cylinders</td>\n",
              "      <td>gas</td>\n",
              "      <td>93600.0</td>\n",
              "      <td>clean</td>\n",
              "      <td>automatic</td>\n",
              "      <td>fwd</td>\n",
              "      <td>full-size</td>\n",
              "      <td>sedan</td>\n",
              "      <td>grey</td>\n",
              "      <td>al</td>\n",
              "      <td>32.547500</td>\n",
              "      <td>-85.468200</td>\n",
              "      <td>7500</td>\n",
              "    </tr>\n",
              "    <tr>\n",
              "      <th>2</th>\n",
              "      <td>7240224296</td>\n",
              "      <td>auburn</td>\n",
              "      <td>2006.0</td>\n",
              "      <td>14.0</td>\n",
              "      <td>bmw</td>\n",
              "      <td>x3 3.0i</td>\n",
              "      <td>good</td>\n",
              "      <td>6 cylinders</td>\n",
              "      <td>gas</td>\n",
              "      <td>87046.0</td>\n",
              "      <td>clean</td>\n",
              "      <td>automatic</td>\n",
              "      <td>4wd</td>\n",
              "      <td>full-size</td>\n",
              "      <td>SUV</td>\n",
              "      <td>blue</td>\n",
              "      <td>al</td>\n",
              "      <td>32.616807</td>\n",
              "      <td>-85.464149</td>\n",
              "      <td>4900</td>\n",
              "    </tr>\n",
              "    <tr>\n",
              "      <th>3</th>\n",
              "      <td>7240103965</td>\n",
              "      <td>auburn</td>\n",
              "      <td>1974.0</td>\n",
              "      <td>46.0</td>\n",
              "      <td>chevrolet</td>\n",
              "      <td>c-10</td>\n",
              "      <td>good</td>\n",
              "      <td>4 cylinders</td>\n",
              "      <td>gas</td>\n",
              "      <td>190000.0</td>\n",
              "      <td>clean</td>\n",
              "      <td>automatic</td>\n",
              "      <td>rwd</td>\n",
              "      <td>full-size</td>\n",
              "      <td>pickup</td>\n",
              "      <td>blue</td>\n",
              "      <td>al</td>\n",
              "      <td>32.861600</td>\n",
              "      <td>-85.216100</td>\n",
              "      <td>2000</td>\n",
              "    </tr>\n",
              "    <tr>\n",
              "      <th>4</th>\n",
              "      <td>7239983776</td>\n",
              "      <td>auburn</td>\n",
              "      <td>2005.0</td>\n",
              "      <td>15.0</td>\n",
              "      <td>ford</td>\n",
              "      <td>f350 lariat</td>\n",
              "      <td>excellent</td>\n",
              "      <td>8 cylinders</td>\n",
              "      <td>diesel</td>\n",
              "      <td>116000.0</td>\n",
              "      <td>lien</td>\n",
              "      <td>automatic</td>\n",
              "      <td>4wd</td>\n",
              "      <td>full-size</td>\n",
              "      <td>pickup</td>\n",
              "      <td>blue</td>\n",
              "      <td>al</td>\n",
              "      <td>32.547500</td>\n",
              "      <td>-85.468200</td>\n",
              "      <td>19500</td>\n",
              "    </tr>\n",
              "    <tr>\n",
              "      <th>...</th>\n",
              "      <td>...</td>\n",
              "      <td>...</td>\n",
              "      <td>...</td>\n",
              "      <td>...</td>\n",
              "      <td>...</td>\n",
              "      <td>...</td>\n",
              "      <td>...</td>\n",
              "      <td>...</td>\n",
              "      <td>...</td>\n",
              "      <td>...</td>\n",
              "      <td>...</td>\n",
              "      <td>...</td>\n",
              "      <td>...</td>\n",
              "      <td>...</td>\n",
              "      <td>...</td>\n",
              "      <td>...</td>\n",
              "      <td>...</td>\n",
              "      <td>...</td>\n",
              "      <td>...</td>\n",
              "      <td>...</td>\n",
              "    </tr>\n",
              "    <tr>\n",
              "      <th>458208</th>\n",
              "      <td>7240959076</td>\n",
              "      <td>wausau</td>\n",
              "      <td>2014.0</td>\n",
              "      <td>6.0</td>\n",
              "      <td>cadillac</td>\n",
              "      <td>srx</td>\n",
              "      <td>excellent</td>\n",
              "      <td>6 cylinders</td>\n",
              "      <td>gas</td>\n",
              "      <td>83790.0</td>\n",
              "      <td>clean</td>\n",
              "      <td>automatic</td>\n",
              "      <td>4wd</td>\n",
              "      <td>mid-size</td>\n",
              "      <td>SUV</td>\n",
              "      <td>silver</td>\n",
              "      <td>wi</td>\n",
              "      <td>44.408867</td>\n",
              "      <td>-89.881210</td>\n",
              "      <td>14995</td>\n",
              "    </tr>\n",
              "    <tr>\n",
              "      <th>458209</th>\n",
              "      <td>7240954682</td>\n",
              "      <td>wausau</td>\n",
              "      <td>2018.0</td>\n",
              "      <td>2.0</td>\n",
              "      <td>hyundai</td>\n",
              "      <td>tucson</td>\n",
              "      <td>excellent</td>\n",
              "      <td>4 cylinders</td>\n",
              "      <td>gas</td>\n",
              "      <td>31888.0</td>\n",
              "      <td>clean</td>\n",
              "      <td>automatic</td>\n",
              "      <td>4wd</td>\n",
              "      <td>mid-size</td>\n",
              "      <td>SUV</td>\n",
              "      <td>white</td>\n",
              "      <td>wi</td>\n",
              "      <td>44.408867</td>\n",
              "      <td>-89.882240</td>\n",
              "      <td>17895</td>\n",
              "    </tr>\n",
              "    <tr>\n",
              "      <th>458210</th>\n",
              "      <td>7240645700</td>\n",
              "      <td>wyoming</td>\n",
              "      <td>2014.0</td>\n",
              "      <td>6.0</td>\n",
              "      <td>cadillac</td>\n",
              "      <td>cts coupe awd</td>\n",
              "      <td>excellent</td>\n",
              "      <td>6 cylinders</td>\n",
              "      <td>gas</td>\n",
              "      <td>53000.0</td>\n",
              "      <td>clean</td>\n",
              "      <td>automatic</td>\n",
              "      <td>4wd</td>\n",
              "      <td>mid-size</td>\n",
              "      <td>coupe</td>\n",
              "      <td>black</td>\n",
              "      <td>wy</td>\n",
              "      <td>44.784900</td>\n",
              "      <td>-106.964800</td>\n",
              "      <td>17900</td>\n",
              "    </tr>\n",
              "    <tr>\n",
              "      <th>458211</th>\n",
              "      <td>7240600465</td>\n",
              "      <td>wyoming</td>\n",
              "      <td>2008.0</td>\n",
              "      <td>12.0</td>\n",
              "      <td>jeep</td>\n",
              "      <td>grand cherokee</td>\n",
              "      <td>good</td>\n",
              "      <td>8 cylinders</td>\n",
              "      <td>gas</td>\n",
              "      <td>164000.0</td>\n",
              "      <td>clean</td>\n",
              "      <td>automatic</td>\n",
              "      <td>4wd</td>\n",
              "      <td>mid-size</td>\n",
              "      <td>SUV</td>\n",
              "      <td>white</td>\n",
              "      <td>wy</td>\n",
              "      <td>44.773500</td>\n",
              "      <td>-106.939600</td>\n",
              "      <td>1300</td>\n",
              "    </tr>\n",
              "    <tr>\n",
              "      <th>458212</th>\n",
              "      <td>7240562359</td>\n",
              "      <td>wyoming</td>\n",
              "      <td>2008.0</td>\n",
              "      <td>12.0</td>\n",
              "      <td>infiniti</td>\n",
              "      <td>International 4300</td>\n",
              "      <td>fair</td>\n",
              "      <td>5 cylinders</td>\n",
              "      <td>diesel</td>\n",
              "      <td>164000.0</td>\n",
              "      <td>clean</td>\n",
              "      <td>automatic</td>\n",
              "      <td>4wd</td>\n",
              "      <td>full-size</td>\n",
              "      <td>offroad</td>\n",
              "      <td>grey</td>\n",
              "      <td>wy</td>\n",
              "      <td>42.117656</td>\n",
              "      <td>-88.436954</td>\n",
              "      <td>22900</td>\n",
              "    </tr>\n",
              "  </tbody>\n",
              "</table>\n",
              "<p>458213 rows × 20 columns</p>\n",
              "</div>"
            ],
            "text/plain": [
              "                id   region    year  ...        lat        long  price\n",
              "0       7240372487   auburn  2010.0  ...  32.590000  -85.480000  35990\n",
              "1       7240309422   auburn  2014.0  ...  32.547500  -85.468200   7500\n",
              "2       7240224296   auburn  2006.0  ...  32.616807  -85.464149   4900\n",
              "3       7240103965   auburn  1974.0  ...  32.861600  -85.216100   2000\n",
              "4       7239983776   auburn  2005.0  ...  32.547500  -85.468200  19500\n",
              "...            ...      ...     ...  ...        ...         ...    ...\n",
              "458208  7240959076   wausau  2014.0  ...  44.408867  -89.881210  14995\n",
              "458209  7240954682   wausau  2018.0  ...  44.408867  -89.882240  17895\n",
              "458210  7240645700  wyoming  2014.0  ...  44.784900 -106.964800  17900\n",
              "458211  7240600465  wyoming  2008.0  ...  44.773500 -106.939600   1300\n",
              "458212  7240562359  wyoming  2008.0  ...  42.117656  -88.436954  22900\n",
              "\n",
              "[458213 rows x 20 columns]"
            ]
          },
          "metadata": {
            "tags": []
          },
          "execution_count": 41
        }
      ]
    },
    {
      "cell_type": "code",
      "metadata": {
        "id": "ZrwAuGeeJpUZ"
      },
      "source": [
        "def outliers(arr,col):\n",
        "    x=sorted(arr[col].values.ravel())\n",
        "    L_25=25/100*(len(x)+1) #L_p where p=25%\n",
        "    i_p=int(str(L_25).split(\".\")[0])\n",
        "    f_p=int(str(L_25).split(\".\")[1])\n",
        "    q1=x[i_p]+f_p*(x[i_p+1]-x[i_p])\n",
        "    \n",
        "    L_75=75/100*(len(x)+1) #L_p where p=75%\n",
        "    i_p=int(str(L_75).split(\".\")[0])\n",
        "    f_p=int(str(L_75).split(\".\")[1])\n",
        "    q3=x[i_p]+f_p*(x[i_p+1]-x[i_p])\n",
        "    \n",
        "    #q1,q3=(arr[col].quantile([0.25,0.75]))\n",
        "    \n",
        "    IQR=q3-q1\n",
        "    x1=q1-1.5*IQR\n",
        "    x2=q3+1.5*IQR\n",
        "    return (x1,x2)"
      ],
      "execution_count": null,
      "outputs": []
    },
    {
      "cell_type": "code",
      "metadata": {
        "id": "TA6jBXkdLxE5"
      },
      "source": [
        "def min_max_price(df):\n",
        "    r=[]\n",
        "    q1,q3=(df['logprice'].quantile([0.25,0.75]))\n",
        "    r.append(q1-1.5*(q3-q1))\n",
        "    r.append(q3+1.5*(q3-q1))\n",
        "    return (r)\n",
        "df['logprice'] = np.log(df['price'])\n",
        "x=df['logprice']\n",
        "price_range=list(range(0,int(max(df['logprice']))+1))\n",
        "red_square = dict(markerfacecolor='g', marker='s')"
      ],
      "execution_count": null,
      "outputs": []
    },
    {
      "cell_type": "code",
      "metadata": {
        "colab": {
          "base_uri": "https://localhost:8080/"
        },
        "id": "pdDQJHI6LCLC",
        "outputId": "32fd90e8-7027-4584-8bbc-a09cdda1894e"
      },
      "source": [
        "#removing outliers \n",
        "out=np.array(['logprice','odometer','year'])\n",
        "for col in out:\n",
        "    o1,o2=outliers(df,col)\n",
        "    df=df[(df[col]>=o1) & (df[col]<=o2)]\n",
        "    print('IQR of',col,'=',o1,o2)\n",
        "df=df[df['price']!=0]\n",
        "df.drop('logprice',axis=1,inplace=True)\n",
        "\n"
      ],
      "execution_count": null,
      "outputs": [
        {
          "output_type": "stream",
          "text": [
            "IQR of logprice = 6.851760089510943 11.992553066505035\n",
            "IQR of odometer = -82000.0 262000.0\n",
            "IQR of year = 1996.0 2028.0\n"
          ],
          "name": "stdout"
        }
      ]
    },
    {
      "cell_type": "code",
      "metadata": {
        "id": "pwFKOHyoL-4Y"
      },
      "source": [
        "#defining numerical and categorical values\n",
        "numerical=['year','odometer','long','lat']\n",
        "categorical=['region','manufacturer','model','condition','cylinders','fuel','state','title_status','transmission','drive','size','type','paint_color']"
      ],
      "execution_count": null,
      "outputs": []
    },
    {
      "cell_type": "code",
      "metadata": {
        "id": "9BY3rtH1Lr5H"
      },
      "source": [
        "convert=preprocessing.LabelEncoder()\n",
        "df[categorical]=df[categorical].apply(convert.fit_transform)"
      ],
      "execution_count": null,
      "outputs": []
    },
    {
      "cell_type": "code",
      "metadata": {
        "id": "Sh8XmjT8MwAF"
      },
      "source": [
        "normalized = StandardScaler()\n",
        "df['price'] = np.log(df['price'])\n",
        "df['year'] = normalized.fit_transform(np.array(df['year']).reshape(-1,1))\n",
        "df['model'] = normalized.fit_transform(np.array(df['model']).reshape(-1,1))\n",
        "df['odometer'] = normalized.fit_transform(np.array(df['odometer']).reshape(-1,1))\n",
        "\n",
        "\n",
        "#The target variable\n",
        "q1,q3=(df['price'].quantile([0.25,0.75]))\n",
        "o1=q1-1.5*(q3-q1)\n",
        "o2=q3+1.5*(q3-q1)\n",
        "df=df[(df.price>=o1) & (df.price<=o2)]\n",
        "\n",
        "df['region'] = normalized.fit_transform(np.array(df['region']).reshape(-1,1))\n",
        "df['lat'] = normalized.fit_transform(np.array(df['lat']).reshape(-1,1))\n",
        "df['long'] = normalized.fit_transform(np.array(df['long']).reshape(-1,1))"
      ],
      "execution_count": null,
      "outputs": []
    },
    {
      "cell_type": "code",
      "metadata": {
        "colab": {
          "base_uri": "https://localhost:8080/",
          "height": 444
        },
        "id": "nj28kCs_NOQF",
        "outputId": "5eeaab0b-7dd3-46dc-ab30-365695adbfc0"
      },
      "source": [
        "df"
      ],
      "execution_count": null,
      "outputs": [
        {
          "output_type": "execute_result",
          "data": {
            "text/html": [
              "<div>\n",
              "<style scoped>\n",
              "    .dataframe tbody tr th:only-of-type {\n",
              "        vertical-align: middle;\n",
              "    }\n",
              "\n",
              "    .dataframe tbody tr th {\n",
              "        vertical-align: top;\n",
              "    }\n",
              "\n",
              "    .dataframe thead th {\n",
              "        text-align: right;\n",
              "    }\n",
              "</style>\n",
              "<table border=\"1\" class=\"dataframe\">\n",
              "  <thead>\n",
              "    <tr style=\"text-align: right;\">\n",
              "      <th></th>\n",
              "      <th>id</th>\n",
              "      <th>region</th>\n",
              "      <th>year</th>\n",
              "      <th>car_age</th>\n",
              "      <th>manufacturer</th>\n",
              "      <th>model</th>\n",
              "      <th>condition</th>\n",
              "      <th>cylinders</th>\n",
              "      <th>fuel</th>\n",
              "      <th>odometer</th>\n",
              "      <th>title_status</th>\n",
              "      <th>transmission</th>\n",
              "      <th>drive</th>\n",
              "      <th>size</th>\n",
              "      <th>type</th>\n",
              "      <th>paint_color</th>\n",
              "      <th>state</th>\n",
              "      <th>lat</th>\n",
              "      <th>long</th>\n",
              "      <th>price</th>\n",
              "    </tr>\n",
              "  </thead>\n",
              "  <tbody>\n",
              "    <tr>\n",
              "      <th>0</th>\n",
              "      <td>7240372487</td>\n",
              "      <td>-1.500430</td>\n",
              "      <td>-0.356342</td>\n",
              "      <td>10.0</td>\n",
              "      <td>7</td>\n",
              "      <td>-0.748504</td>\n",
              "      <td>2</td>\n",
              "      <td>6</td>\n",
              "      <td>2</td>\n",
              "      <td>-1.086500</td>\n",
              "      <td>0</td>\n",
              "      <td>2</td>\n",
              "      <td>2</td>\n",
              "      <td>1</td>\n",
              "      <td>7</td>\n",
              "      <td>5</td>\n",
              "      <td>1</td>\n",
              "      <td>-1.020745</td>\n",
              "      <td>0.482074</td>\n",
              "      <td>2.350517</td>\n",
              "    </tr>\n",
              "    <tr>\n",
              "      <th>1</th>\n",
              "      <td>7240309422</td>\n",
              "      <td>-1.500430</td>\n",
              "      <td>0.404419</td>\n",
              "      <td>6.0</td>\n",
              "      <td>18</td>\n",
              "      <td>1.153801</td>\n",
              "      <td>0</td>\n",
              "      <td>3</td>\n",
              "      <td>2</td>\n",
              "      <td>-0.008022</td>\n",
              "      <td>0</td>\n",
              "      <td>0</td>\n",
              "      <td>1</td>\n",
              "      <td>1</td>\n",
              "      <td>9</td>\n",
              "      <td>5</td>\n",
              "      <td>1</td>\n",
              "      <td>-1.027998</td>\n",
              "      <td>0.482738</td>\n",
              "      <td>2.188594</td>\n",
              "    </tr>\n",
              "    <tr>\n",
              "      <th>2</th>\n",
              "      <td>7240224296</td>\n",
              "      <td>-1.500430</td>\n",
              "      <td>-1.117104</td>\n",
              "      <td>14.0</td>\n",
              "      <td>4</td>\n",
              "      <td>1.594539</td>\n",
              "      <td>2</td>\n",
              "      <td>5</td>\n",
              "      <td>2</td>\n",
              "      <td>-0.124167</td>\n",
              "      <td>0</td>\n",
              "      <td>0</td>\n",
              "      <td>0</td>\n",
              "      <td>1</td>\n",
              "      <td>0</td>\n",
              "      <td>1</td>\n",
              "      <td>1</td>\n",
              "      <td>-1.016171</td>\n",
              "      <td>0.482966</td>\n",
              "      <td>2.139712</td>\n",
              "    </tr>\n",
              "    <tr>\n",
              "      <th>4</th>\n",
              "      <td>7239983776</td>\n",
              "      <td>-1.500430</td>\n",
              "      <td>-1.307294</td>\n",
              "      <td>15.0</td>\n",
              "      <td>13</td>\n",
              "      <td>-0.167661</td>\n",
              "      <td>0</td>\n",
              "      <td>6</td>\n",
              "      <td>0</td>\n",
              "      <td>0.388933</td>\n",
              "      <td>1</td>\n",
              "      <td>0</td>\n",
              "      <td>0</td>\n",
              "      <td>1</td>\n",
              "      <td>8</td>\n",
              "      <td>1</td>\n",
              "      <td>1</td>\n",
              "      <td>-1.027998</td>\n",
              "      <td>0.482738</td>\n",
              "      <td>2.290327</td>\n",
              "    </tr>\n",
              "    <tr>\n",
              "      <th>5</th>\n",
              "      <td>7239776805</td>\n",
              "      <td>-1.500430</td>\n",
              "      <td>0.784800</td>\n",
              "      <td>4.0</td>\n",
              "      <td>40</td>\n",
              "      <td>1.284896</td>\n",
              "      <td>2</td>\n",
              "      <td>5</td>\n",
              "      <td>2</td>\n",
              "      <td>-1.076789</td>\n",
              "      <td>0</td>\n",
              "      <td>2</td>\n",
              "      <td>0</td>\n",
              "      <td>1</td>\n",
              "      <td>8</td>\n",
              "      <td>8</td>\n",
              "      <td>1</td>\n",
              "      <td>-1.020745</td>\n",
              "      <td>0.482074</td>\n",
              "      <td>2.331677</td>\n",
              "    </tr>\n",
              "    <tr>\n",
              "      <th>...</th>\n",
              "      <td>...</td>\n",
              "      <td>...</td>\n",
              "      <td>...</td>\n",
              "      <td>...</td>\n",
              "      <td>...</td>\n",
              "      <td>...</td>\n",
              "      <td>...</td>\n",
              "      <td>...</td>\n",
              "      <td>...</td>\n",
              "      <td>...</td>\n",
              "      <td>...</td>\n",
              "      <td>...</td>\n",
              "      <td>...</td>\n",
              "      <td>...</td>\n",
              "      <td>...</td>\n",
              "      <td>...</td>\n",
              "      <td>...</td>\n",
              "      <td>...</td>\n",
              "      <td>...</td>\n",
              "      <td>...</td>\n",
              "    </tr>\n",
              "    <tr>\n",
              "      <th>458207</th>\n",
              "      <td>7240964712</td>\n",
              "      <td>1.600476</td>\n",
              "      <td>0.974990</td>\n",
              "      <td>3.0</td>\n",
              "      <td>3</td>\n",
              "      <td>-1.242100</td>\n",
              "      <td>1</td>\n",
              "      <td>4</td>\n",
              "      <td>2</td>\n",
              "      <td>0.127900</td>\n",
              "      <td>0</td>\n",
              "      <td>0</td>\n",
              "      <td>0</td>\n",
              "      <td>1</td>\n",
              "      <td>6</td>\n",
              "      <td>5</td>\n",
              "      <td>48</td>\n",
              "      <td>1.070284</td>\n",
              "      <td>0.140279</td>\n",
              "      <td>2.292634</td>\n",
              "    </tr>\n",
              "    <tr>\n",
              "      <th>458208</th>\n",
              "      <td>7240959076</td>\n",
              "      <td>1.600476</td>\n",
              "      <td>0.404419</td>\n",
              "      <td>6.0</td>\n",
              "      <td>6</td>\n",
              "      <td>1.219424</td>\n",
              "      <td>0</td>\n",
              "      <td>5</td>\n",
              "      <td>2</td>\n",
              "      <td>-0.181867</td>\n",
              "      <td>0</td>\n",
              "      <td>0</td>\n",
              "      <td>0</td>\n",
              "      <td>2</td>\n",
              "      <td>0</td>\n",
              "      <td>9</td>\n",
              "      <td>48</td>\n",
              "      <td>0.996165</td>\n",
              "      <td>0.234262</td>\n",
              "      <td>2.263373</td>\n",
              "    </tr>\n",
              "    <tr>\n",
              "      <th>458209</th>\n",
              "      <td>7240954682</td>\n",
              "      <td>1.600476</td>\n",
              "      <td>1.165180</td>\n",
              "      <td>2.0</td>\n",
              "      <td>18</td>\n",
              "      <td>1.451580</td>\n",
              "      <td>0</td>\n",
              "      <td>3</td>\n",
              "      <td>2</td>\n",
              "      <td>-1.101634</td>\n",
              "      <td>0</td>\n",
              "      <td>0</td>\n",
              "      <td>0</td>\n",
              "      <td>2</td>\n",
              "      <td>0</td>\n",
              "      <td>10</td>\n",
              "      <td>48</td>\n",
              "      <td>0.996165</td>\n",
              "      <td>0.234204</td>\n",
              "      <td>2.281594</td>\n",
              "    </tr>\n",
              "    <tr>\n",
              "      <th>458210</th>\n",
              "      <td>7240645700</td>\n",
              "      <td>1.727216</td>\n",
              "      <td>0.404419</td>\n",
              "      <td>6.0</td>\n",
              "      <td>6</td>\n",
              "      <td>-0.679728</td>\n",
              "      <td>0</td>\n",
              "      <td>5</td>\n",
              "      <td>2</td>\n",
              "      <td>-0.727504</td>\n",
              "      <td>0</td>\n",
              "      <td>0</td>\n",
              "      <td>0</td>\n",
              "      <td>2</td>\n",
              "      <td>3</td>\n",
              "      <td>0</td>\n",
              "      <td>50</td>\n",
              "      <td>1.060336</td>\n",
              "      <td>-0.727636</td>\n",
              "      <td>2.281623</td>\n",
              "    </tr>\n",
              "    <tr>\n",
              "      <th>458212</th>\n",
              "      <td>7240562359</td>\n",
              "      <td>1.727216</td>\n",
              "      <td>-0.736723</td>\n",
              "      <td>12.0</td>\n",
              "      <td>19</td>\n",
              "      <td>-1.471103</td>\n",
              "      <td>1</td>\n",
              "      <td>4</td>\n",
              "      <td>0</td>\n",
              "      <td>1.239552</td>\n",
              "      <td>0</td>\n",
              "      <td>0</td>\n",
              "      <td>0</td>\n",
              "      <td>1</td>\n",
              "      <td>6</td>\n",
              "      <td>5</td>\n",
              "      <td>50</td>\n",
              "      <td>0.605166</td>\n",
              "      <td>0.315581</td>\n",
              "      <td>2.306467</td>\n",
              "    </tr>\n",
              "  </tbody>\n",
              "</table>\n",
              "<p>386459 rows × 20 columns</p>\n",
              "</div>"
            ],
            "text/plain": [
              "                id    region      year  ...       lat      long     price\n",
              "0       7240372487 -1.500430 -0.356342  ... -1.020745  0.482074  2.350517\n",
              "1       7240309422 -1.500430  0.404419  ... -1.027998  0.482738  2.188594\n",
              "2       7240224296 -1.500430 -1.117104  ... -1.016171  0.482966  2.139712\n",
              "4       7239983776 -1.500430 -1.307294  ... -1.027998  0.482738  2.290327\n",
              "5       7239776805 -1.500430  0.784800  ... -1.020745  0.482074  2.331677\n",
              "...            ...       ...       ...  ...       ...       ...       ...\n",
              "458207  7240964712  1.600476  0.974990  ...  1.070284  0.140279  2.292634\n",
              "458208  7240959076  1.600476  0.404419  ...  0.996165  0.234262  2.263373\n",
              "458209  7240954682  1.600476  1.165180  ...  0.996165  0.234204  2.281594\n",
              "458210  7240645700  1.727216  0.404419  ...  1.060336 -0.727636  2.281623\n",
              "458212  7240562359  1.727216 -0.736723  ...  0.605166  0.315581  2.306467\n",
              "\n",
              "[386459 rows x 20 columns]"
            ]
          },
          "metadata": {
            "tags": []
          },
          "execution_count": 59
        }
      ]
    },
    {
      "cell_type": "code",
      "metadata": {
        "id": "RWTGr97NNbSC"
      },
      "source": [
        "def trainingDataset(df,n):\n",
        "    X = df.iloc[:,n]\n",
        "    y = df.iloc[:,-1:].values.T\n",
        "    y=y[0]\n",
        "    x_train,x_test,y_train,y_test=train_test_split(x,y,train_size=0.9,test_size=0.1,random_state=0)\n",
        "    return (x_train,x_test,y_train,y_test)\n",
        "\n",
        "X_train,X_test,y_train,y_test=trainingDataset(df,list(range(len(list(df.columns))-1)))"
      ],
      "execution_count": null,
      "outputs": []
    },
    {
      "cell_type": "code",
      "metadata": {
        "id": "MpSeWobzPHML"
      },
      "source": [
        "#some of models will predict neg values so this function will remove that values\n",
        "\n",
        "def remove_neg(y_test,y_pred):\n",
        "    ind=[index for index in range(len(y_pred)) if(y_pred[index]>0)]\n",
        "    y_pred=y_pred[ind]\n",
        "    y_test=y_test[ind]\n",
        "    y_pred[y_pred<0]\n",
        "    return (y_test,y_pred)\n",
        "\n",
        "#function for evaluation of model\n",
        "def result(y_test,y_pred):\n",
        "    r=[]\n",
        "    r.append(mean_squared_log_error(y_test, y_pred))\n",
        "    r.append(np.sqrt(r[0]))\n",
        "    r.append(r2_score(y_test,y_pred))\n",
        "    r.append(round(r2_score(y_test,y_pred)*100,4))\n",
        "    return (r)\n",
        "\n"
      ],
      "execution_count": null,
      "outputs": []
    },
    {
      "cell_type": "markdown",
      "metadata": {
        "id": "ccYGyLIvQI9m"
      },
      "source": [
        "##RandomForest"
      ]
    },
    {
      "cell_type": "code",
      "metadata": {
        "id": "s8pApHZUQ2d7"
      },
      "source": [
        "param = RandomForestRegressor(n_estimators=300, min_samples_split=2, \n",
        "                                 min_samples_leaf=1, max_features='auto', random_state = 1 )\n",
        "param.fit(X_train, y_train)\n",
        "y_pred = param.predict(X_test)"
      ],
      "execution_count": null,
      "outputs": []
    },
    {
      "cell_type": "code",
      "metadata": {
        "colab": {
          "base_uri": "https://localhost:8080/"
        },
        "id": "2P2eEFnKjrJv",
        "outputId": "bd823e2b-be9d-4741-a3b3-3a4f30d1e3eb"
      },
      "source": [
        "gc.collect()"
      ],
      "execution_count": null,
      "outputs": [
        {
          "output_type": "execute_result",
          "data": {
            "text/plain": [
              "263"
            ]
          },
          "metadata": {
            "tags": []
          },
          "execution_count": 87
        }
      ]
    },
    {
      "cell_type": "code",
      "metadata": {
        "colab": {
          "base_uri": "https://localhost:8080/"
        },
        "id": "6eUaZSfcSWK6",
        "outputId": "0f770d18-196d-410d-d8c9-6ce57b094e1b"
      },
      "source": [
        "y_pred"
      ],
      "execution_count": null,
      "outputs": [
        {
          "output_type": "execute_result",
          "data": {
            "text/plain": [
              "array([2.1122    , 2.36293088, 2.17287829, ..., 2.06317152, 2.15543751,\n",
              "       2.2376069 ])"
            ]
          },
          "metadata": {
            "tags": []
          },
          "execution_count": 75
        }
      ]
    },
    {
      "cell_type": "markdown",
      "metadata": {
        "id": "URi1iN5yQRWk"
      },
      "source": [
        "##Result of the RandomForest Model"
      ]
    },
    {
      "cell_type": "code",
      "metadata": {
        "colab": {
          "base_uri": "https://localhost:8080/"
        },
        "id": "RZBb1PBSk_LV",
        "outputId": "0c6bf77b-9e53-4af4-d669-2f28cbb014a7"
      },
      "source": [
        "random_result =result(y_test,y_pred)\n",
        "print(\"MSLE : {}\".format(random_result[0]))\n",
        "print(\"Root MSLE : {}\".format(random_result[1]))\n",
        "print(\"R2 Score : {} or {}%\".format(random_result[2],random_result[3]))\n",
        "accu['RandomForest Regressor']= random_result\n",
        "\n"
      ],
      "execution_count": null,
      "outputs": [
        {
          "output_type": "stream",
          "text": [
            "MSLE : 8.318697856840513e-05\n",
            "Root MSLE : 0.009120689588425051\n",
            "R2 Score : 0.8952415754775401 or 89.5242%\n"
          ],
          "name": "stdout"
        }
      ]
    },
    {
      "cell_type": "markdown",
      "metadata": {
        "id": "iUA7Nql_QeNP"
      },
      "source": [
        "##XGBOOST"
      ]
    },
    {
      "cell_type": "code",
      "metadata": {
        "id": "VCDkw057To4j"
      },
      "source": [
        "xgboost = xgb.XGBRegressor(objective ='reg:squarederror', learning_rate = 0.4,\n",
        "                max_depth = 24, alpha = 5, n_estimators = 200)\n",
        "xgboost.fit(X_train,y_train)\n",
        "y_preds = xgboost.predict(X_test)"
      ],
      "execution_count": null,
      "outputs": []
    },
    {
      "cell_type": "markdown",
      "metadata": {
        "id": "nLNkcuTGQlY1"
      },
      "source": [
        "##Result of the XGBOOST Model"
      ]
    },
    {
      "cell_type": "code",
      "metadata": {
        "colab": {
          "base_uri": "https://localhost:8080/"
        },
        "id": "zorW295LgtDv",
        "outputId": "e2dca480-ee8a-47e6-df71-da67d80b9e03"
      },
      "source": [
        "y_test_1,y_pred_1=remove_neg(y_test,y_preds)\n",
        "\n",
        "xgboost_result=result(y_test_1,y_pred_1)\n",
        "print(\"MSLE : {}\".format(xgboost_result[0]))\n",
        "print(\"Root MSLE : {}\".format(xgboost_result[1]))\n",
        "print(\"R2 Score : {} or {}%\".format(xgboost_result[2],xgboost_result[3]))"
      ],
      "execution_count": null,
      "outputs": [
        {
          "output_type": "stream",
          "text": [
            "MSLE : 8.095324665836662e-05\n",
            "Root MSLE : 0.008997402217216179\n",
            "R2 Score : 0.8979684152562684 or 89.7968%\n"
          ],
          "name": "stdout"
        }
      ]
    }
  ]
}
